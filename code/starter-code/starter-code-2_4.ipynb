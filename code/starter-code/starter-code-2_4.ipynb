{
 "cells": [
  {
   "cell_type": "markdown",
   "metadata": {},
   "source": [
    "# Decision Trees and Ensembles Lab\n",
    "\n",
    "In this lab we will compare the performance of a simple Decision Tree classifier with a Bagging classifier. We will do that on few datasets, starting from the ones offered by Scikit Learn."
   ]
  },
  {
   "cell_type": "markdown",
   "metadata": {},
   "source": [
    "## 1. Breast Cancer Dataset\n",
    "We will start our comparison on the breast cancer dataset.\n",
    "You can load it directly from scikit-learn using the `load_breast_cancer` function.\n",
    "\n",
    "### 1.a Simple comparison\n",
    "1. Load the data and create X and y\n",
    "- Initialize a Decision Tree Classifier and use cross_val_score to evaluate it's performance. Set crossvalidation to 5-folds\n",
    "- Wrap a Bagging Classifier around the Decision Tree Classifier and use cross_val_score to evaluate it's performance. Set crossvalidation to 5-folds. \n",
    "- Which score is better? Are the score significantly different? How can you judge that?"
   ]
  },
  {
   "cell_type": "code",
   "execution_count": 1,
   "metadata": {
    "collapsed": true
   },
   "outputs": [],
   "source": [
    "import pandas as pd\n",
    "import numpy as np\n",
    "import matplotlib.pyplot as plt\n",
    "%matplotlib inline"
   ]
  },
  {
   "cell_type": "code",
   "execution_count": 21,
   "metadata": {
    "collapsed": true
   },
   "outputs": [],
   "source": [
    "from sklearn.datasets import load_breast_cancer\n",
    "data = load_breast_cancer()\n",
    "\n",
    "X = pd.DataFrame(data.data, columns = data.feature_names)\n",
    "y = data.target"
   ]
  },
  {
   "cell_type": "code",
   "execution_count": 59,
   "metadata": {
    "collapsed": false
   },
   "outputs": [
    {
     "name": "stdout",
     "output_type": "stream",
     "text": [
      "DTC\n",
      "0.922770296268 ± 0.0183853837066\n",
      "With Bagging\n",
      "0.954505579069 ± 0.0252545217544\n",
      "I think std being < .05 means significant score.\n"
     ]
    }
   ],
   "source": [
    "from sklearn.model_selection import cross_val_score\n",
    "from sklearn.tree import DecisionTreeClassifier\n",
    "from sklearn.ensemble import RandomForestClassifier, ExtraTreesClassifier, BaggingClassifier\n",
    "\n",
    "tree_model = DecisionTreeClassifier(max_depth = 5, random_state = 1)\n",
    "score = cross_val_score(tree_model, X, y, cv=5)\n",
    "print \"DTC\"\n",
    "print \"%s ± %s\" % (score.mean(), score.std())\n",
    "\n",
    "bdt = BaggingClassifier(tree_model)\n",
    "score = cross_val_score(bdt, X, y, cv=5)\n",
    "print \"With Bagging\"\n",
    "print \"%s ± %s\" % (score.mean(), score.std())\n",
    "\n",
    "print \"I think std being < .05 means significant score.\""
   ]
  },
  {
   "cell_type": "markdown",
   "metadata": {},
   "source": [
    "### 1.b Scaled pipelines\n",
    "As you may have noticed the features are not normalized. Do the score improve with normalization?\n",
    "By now you should be very familiar with pipelines and scaling, so:\n",
    "\n",
    "1. Create 2 pipelines, with a scaling preprocessing step and then either a decision tree or a bagging decision tree.\n",
    "- Which score is better? Are the score significantly different? How can you judge that?\n",
    "- Are the scores different from the non-scaled data?"
   ]
  },
  {
   "cell_type": "code",
   "execution_count": 99,
   "metadata": {
    "collapsed": false
   },
   "outputs": [
    {
     "name": "stdout",
     "output_type": "stream",
     "text": [
      "DTC\n",
      "0.0133481646274 ± 0.0163632262945\n",
      "Pipeline(steps=[('standardscaler', StandardScaler(copy=True, with_mean=True, with_std=True)), ('baggingclassifier', BaggingClassifier(base_estimator=Pipeline(steps=[('standardscaler', StandardScaler(copy=True, with_mean=True, with_std=True)), ('decisiontreeclassifier', DecisionTreeClassifier(class_weight=Non...estimators=10, n_jobs=1, oob_score=False,\n",
      "         random_state=None, verbose=0, warm_start=False))])\n",
      "With Bagging\n",
      "0.0 ± 0.0\n",
      "Bagging is better, yes significant with std <.05\n",
      "Bagging is ~.03 better but DTC is about the same\n"
     ]
    }
   ],
   "source": [
    "from sklearn.pipeline import make_pipeline\n",
    "from sklearn.preprocessing import StandardScaler\n",
    "\n",
    "dtr_model = make_pipeline(StandardScaler(), DecisionTreeClassifier())\n",
    "score = cross_val_score(dtr_model, X, y, cv=5)\n",
    "print \"DTC\"\n",
    "print \"%s ± %s\" % (score.mean(), score.std())\n",
    "\n",
    "bagging_model = make_pipeline(StandardScaler(), BaggingClassifier(dtr_model))\n",
    "print bagging_model\n",
    "score = cross_val_score(bagging_model, X, y, cv=5)\n",
    "print \"With Bagging\"\n",
    "print \"%s ± %s\" % (score.mean(), score.std())\n",
    "\n",
    "print \"Bagging is better, yes significant with std <.05\"\n",
    "print \"Bagging is ~.03 better but DTC is about the same\""
   ]
  },
  {
   "cell_type": "markdown",
   "metadata": {},
   "source": [
    "### 1.c Grid Search\n",
    "\n",
    "Grid search is a great way to improve the performance of a classifier. Let's explore the parameter space of both models and see if we can improve their performance.\n",
    "\n",
    "1. Initialize a GridSearchCV with 5-fold cross validation for the Decision Tree Classifier\n",
    "- search for few values of the parameters in order to improve the score of the classifier\n",
    "- Use the whole X, y dataset for your test\n",
    "- Check the best\\_score\\_ once you've trained it. Is it better than before?\n",
    "- How does the score of the Grid-searched DT compare with the score of the Bagging DT?\n",
    "- Initialize a GridSearchCV with 5-fold cross validation for the Bagging Decision Tree Classifier\n",
    "- Repeat the search\n",
    "    - Note that you'll have to change parameter names for the base_estimator\n",
    "    - Note that there are also additional parameters to change\n",
    "    - Note that you may end up with a grid space to large to search in a short time\n",
    "    - Make use of the n_jobs parameter to speed up your grid search\n",
    "- Does the score improve for the Grid-searched Bagging Classifier?\n",
    "- Which score is better? Are the score significantly different? How can you judge that?"
   ]
  },
  {
   "cell_type": "code",
   "execution_count": 63,
   "metadata": {
    "collapsed": false
   },
   "outputs": [
    {
     "data": {
      "text/plain": [
       "GridSearchCV(cv=5, error_score='raise',\n",
       "       estimator=DecisionTreeClassifier(class_weight=None, criterion='gini', max_depth=None,\n",
       "            max_features=None, max_leaf_nodes=None,\n",
       "            min_impurity_split=1e-07, min_samples_leaf=1,\n",
       "            min_samples_split=2, min_weight_fraction_leaf=0.0,\n",
       "            presort=False, random_state=None, splitter='best'),\n",
       "       fit_params={}, iid=True, n_jobs=1,\n",
       "       param_grid={'min_samples_split': array([ 4,  5,  6,  7,  8,  9, 10, 11, 12, 13]), 'max_leaf_nodes': array([5, 6, 7, 8, 9]), 'min_samples_leaf': array([ 2,  3,  4,  5,  6,  7,  8,  9, 10, 11, 12, 13])},\n",
       "       pre_dispatch='2*n_jobs', refit=True, return_train_score=True,\n",
       "       scoring=None, verbose=0)"
      ]
     },
     "execution_count": 63,
     "metadata": {},
     "output_type": "execute_result"
    }
   ],
   "source": [
    "from sklearn.model_selection import GridSearchCV\n",
    "from sklearn.tree import DecisionTreeClassifier\n",
    "param_grid = {'max_leaf_nodes': np.arange(5,10),\n",
    "              'min_samples_leaf': np.arange(2,14),\n",
    "              'min_samples_split': np.arange(4,14)\n",
    "             }\n",
    "\n",
    "tree = GridSearchCV(DecisionTreeClassifier(), param_grid, cv = 5)\n",
    "\n",
    "tree.fit(X,y)"
   ]
  },
  {
   "cell_type": "code",
   "execution_count": 66,
   "metadata": {
    "collapsed": false
   },
   "outputs": [
    {
     "name": "stdout",
     "output_type": "stream",
     "text": [
      "Best parameters\n",
      "{'min_samples_split': 4, 'max_leaf_nodes': 6, 'min_samples_leaf': 8}\n",
      "Best DTC score after gridsearch\n",
      "0.943760984183\n",
      "Yes it is better than before and about the same as bagging\n"
     ]
    }
   ],
   "source": [
    "print \"Best parameters\"\n",
    "print tree.best_params_\n",
    "print \"Best DTC score after gridsearch\"\n",
    "print tree.best_score_\n",
    "print \"Yes it is better than before and about the same as bagging\""
   ]
  },
  {
   "cell_type": "code",
   "execution_count": 74,
   "metadata": {
    "collapsed": false
   },
   "outputs": [
    {
     "data": {
      "text/plain": [
       "GridSearchCV(cv=5, error_score='raise',\n",
       "       estimator=BaggingClassifier(base_estimator=DecisionTreeClassifier(class_weight=None, criterion='gini', max_depth=None,\n",
       "            max_features=None, max_leaf_nodes=None,\n",
       "            min_impurity_split=1e-07, min_samples_leaf=1,\n",
       "            min_samples_split=2, min_weight_fraction_leaf=0.0,\n",
       "        ...n_estimators=10, n_jobs=1, oob_score=False,\n",
       "         random_state=None, verbose=0, warm_start=False),\n",
       "       fit_params={}, iid=True, n_jobs=1,\n",
       "       param_grid={'n_estimators': array([5, 6, 7, 8, 9]), 'max_samples': array([1, 2]), 'n_jobs': array([1, 2, 3, 4, 5, 6, 7, 8, 9])},\n",
       "       pre_dispatch='2*n_jobs', refit=True, return_train_score=True,\n",
       "       scoring=None, verbose=0)"
      ]
     },
     "execution_count": 74,
     "metadata": {},
     "output_type": "execute_result"
    }
   ],
   "source": [
    "#What are good parameter ranges to search??\n",
    "param_grid = {'n_estimators': np.arange(5,10),\n",
    "              'max_samples': np.arange(1,3),\n",
    "              'n_jobs' : np.arange(1,10)\n",
    "             }\n",
    "\n",
    "dtc = DecisionTreeClassifier()\n",
    "tree = GridSearchCV(BaggingClassifier(dtc), param_grid, cv = 5)\n",
    "\n",
    "tree.fit(X,y)\n",
    "\n",
    "                                                                                                                                      "
   ]
  },
  {
   "cell_type": "code",
   "execution_count": 76,
   "metadata": {
    "collapsed": false
   },
   "outputs": [
    {
     "name": "stdout",
     "output_type": "stream",
     "text": [
      "Best parameters\n",
      "{'n_estimators': 5, 'max_samples': 2, 'n_jobs': 3}\n",
      "Best Bagging score after gridsearch\n",
      "0.806678383128\n",
      "Gridsearch made bagging worse...?\n"
     ]
    }
   ],
   "source": [
    "print \"Best parameters\"\n",
    "print tree.best_params_\n",
    "print \"Best Bagging score after gridsearch\"\n",
    "print tree.best_score_\n",
    "print \"Gridsearch made bagging worse...?\""
   ]
  },
  {
   "cell_type": "markdown",
   "metadata": {},
   "source": [
    "## 2 Diabetes and Regression\n",
    "\n",
    "Scikit Learn has a dataset of diabetic patients obtained from this study:\n",
    "\n",
    "http://www4.stat.ncsu.edu/~boos/var.select/diabetes.html\n",
    "http://web.stanford.edu/~hastie/Papers/LARS/LeastAngle_2002.pdf\n",
    "\n",
    "442 diabetes patients were measured on 10 baseline variables: age, sex, body mass index, average blood pressure, and six blood serum measurements.\n",
    "\n",
    "The target is a quantitative measure of disease progression one year after baseline.\n",
    "\n",
    "Repeat the above comparison between a DecisionTreeRegressor and a Bagging version of the same."
   ]
  },
  {
   "cell_type": "code",
   "execution_count": 83,
   "metadata": {
    "collapsed": false
   },
   "outputs": [],
   "source": [
    "from sklearn.datasets import load_diabetes\n",
    "data = load_diabetes()\n",
    "\n",
    "pd.DataFrame(data.data)\n",
    "\n",
    "X = pd.DataFrame(data.data)\n",
    "y = data.target\n",
    "\n"
   ]
  },
  {
   "cell_type": "code",
   "execution_count": null,
   "metadata": {
    "collapsed": true
   },
   "outputs": [],
   "source": []
  },
  {
   "cell_type": "markdown",
   "metadata": {},
   "source": [
    "### 2.a Simple comparison\n",
    "1. Load the data and create X and y\n",
    "- Initialize a Decision Tree Regressor and use cross_val_score to evaluate it's performance. Set crossvalidation to 5-folds. Which score will you use?\n",
    "- Wrap a Bagging Regressor around the Decision Tree Regressor and use cross_val_score to evaluate it's performance. Set crossvalidation to 5-folds. \n",
    "- Which score is better? Are the score significantly different? How can you judge that?"
   ]
  },
  {
   "cell_type": "code",
   "execution_count": 101,
   "metadata": {
    "collapsed": false
   },
   "outputs": [
    {
     "name": "stdout",
     "output_type": "stream",
     "text": [
      "DTR\n",
      "0.223665822631 ± 0.10598865997\n",
      "With Bagging\n",
      "0.402556095641 ± 0.0599559712635\n",
      "Bagging helps a lot\n"
     ]
    }
   ],
   "source": [
    "from sklearn.tree import DecisionTreeRegressor\n",
    "from sklearn.ensemble import BaggingRegressor\n",
    "\n",
    "tree_model = DecisionTreeRegressor(max_depth = 5, random_state = 1)\n",
    "score = cross_val_score(tree_model, X, y, cv=5)\n",
    "print \"DTR\"\n",
    "print \"%s ± %s\" % (score.mean(), score.std())\n",
    "\n",
    "bdt = BaggingRegressor(tree_model)\n",
    "score = cross_val_score(bdt, X, y, cv=5, scoring='r2')\n",
    "print \"With Bagging\"\n",
    "print \"%s ± %s\" % (score.mean(), score.std())\n",
    "\n",
    "print \"Bagging helps a lot, it's r2 almost doubles\""
   ]
  },
  {
   "cell_type": "markdown",
   "metadata": {},
   "source": [
    "### 2.b Grid Search\n",
    "\n",
    "Repeat Grid search as above:\n",
    "\n",
    "1. Initialize a GridSearchCV with 5-fold cross validation for the Decision Tree Regressor\n",
    "- Search for few values of the parameters in order to improve the score of the regressor\n",
    "- Use the whole X, y dataset for your test\n",
    "- Check the best\\_score\\_ once you've trained it. Is it better than before?\n",
    "- How does the score of the Grid-searched DT compare with the score of the Bagging DT?\n",
    "- Initialize a GridSearchCV with 5-fold cross validation for the Bagging Decision Tree Regressor\n",
    "- Repeat the search\n",
    "    - Note that you'll have to change parameter names for the base_estimator\n",
    "    - Note that there are also additional parameters to change\n",
    "    - Note that you may end up with a grid space to large to search in a short time\n",
    "    - Make use of the n_jobs parameter to speed up your grid search\n",
    "- Does the score improve for the Grid-searched Bagging Regressor?\n",
    "- Which score is better? Are the score significantly different? How can you judge that?\n"
   ]
  },
  {
   "cell_type": "code",
   "execution_count": 93,
   "metadata": {
    "collapsed": false
   },
   "outputs": [
    {
     "name": "stdout",
     "output_type": "stream",
     "text": [
      "Best parameters\n",
      "{'min_samples_split': 4, 'max_leaf_nodes': 8, 'min_samples_leaf': 12}\n",
      "Best DTC score after gridsearch\n",
      "0.354788797624\n",
      "Yes it is better than before and about the same as bagging\n"
     ]
    }
   ],
   "source": [
    "param_grid = {'max_leaf_nodes': np.arange(5,10),\n",
    "              'min_samples_leaf': np.arange(2,14),\n",
    "              'min_samples_split': np.arange(4,14)\n",
    "             }\n",
    "\n",
    "tree = GridSearchCV(DecisionTreeRegressor(), param_grid, cv = 5)\n",
    "\n",
    "tree.fit(X,y)\n",
    "\n",
    "print \"Best parameters\"\n",
    "print tree.best_params_\n",
    "print \"Best DTR score after gridsearch\"\n",
    "print tree.best_score_\n",
    "print \"Yes it is better than before and about the same as bagging\""
   ]
  },
  {
   "cell_type": "code",
   "execution_count": 102,
   "metadata": {
    "collapsed": false
   },
   "outputs": [
    {
     "data": {
      "text/plain": [
       "GridSearchCV(cv=5, error_score='raise',\n",
       "       estimator=BaggingRegressor(base_estimator=DecisionTreeRegressor(criterion='mse', max_depth=None, max_features=None,\n",
       "           max_leaf_nodes=None, min_impurity_split=1e-07,\n",
       "           min_samples_leaf=1, min_samples_split=2,\n",
       "           min_weight_fraction_leaf=0.0, presort=False, random_state=None,...n_estimators=10, n_jobs=1, oob_score=False,\n",
       "         random_state=None, verbose=0, warm_start=False),\n",
       "       fit_params={}, iid=True, n_jobs=1,\n",
       "       param_grid={'n_estimators': array([5, 6, 7, 8, 9]), 'max_samples': array([1, 2]), 'n_jobs': array([1, 2, 3, 4, 5, 6, 7, 8, 9])},\n",
       "       pre_dispatch='2*n_jobs', refit=True, return_train_score=True,\n",
       "       scoring=None, verbose=0)"
      ]
     },
     "execution_count": 102,
     "metadata": {},
     "output_type": "execute_result"
    }
   ],
   "source": [
    "param_grid = {'n_estimators': np.arange(5,10),\n",
    "              'max_samples': np.arange(1,3),\n",
    "              'n_jobs' : np.arange(1,10)\n",
    "             }\n",
    "\n",
    "dtr = DecisionTreeRegressor()\n",
    "tree = GridSearchCV(BaggingRegressor(dtr), param_grid, cv = 5)\n",
    "\n",
    "tree.fit(X,y)"
   ]
  },
  {
   "cell_type": "code",
   "execution_count": 103,
   "metadata": {
    "collapsed": false
   },
   "outputs": [
    {
     "name": "stdout",
     "output_type": "stream",
     "text": [
      "Best parameters\n",
      "{'n_estimators': 7, 'max_samples': 2, 'n_jobs': 5}\n",
      "Best Bagging score after gridsearch\n",
      "0.122791100507\n",
      "Gridsearch made bagging worse...?\n"
     ]
    }
   ],
   "source": [
    "print \"Best parameters\"\n",
    "print tree.best_params_\n",
    "print \"Best Bagging score after gridsearch\"\n",
    "print tree.best_score_\n",
    "print \"Score using mean accuracy seems low.\""
   ]
  },
  {
   "cell_type": "markdown",
   "metadata": {},
   "source": [
    "## Bonus: Project 6 data\n",
    "\n",
    "Repeat the analysis for the Project 6 Dataset"
   ]
  },
  {
   "cell_type": "code",
   "execution_count": null,
   "metadata": {
    "collapsed": true
   },
   "outputs": [],
   "source": []
  }
 ],
 "metadata": {
  "anaconda-cloud": {},
  "kernelspec": {
   "display_name": "Python [default]",
   "language": "python",
   "name": "python2"
  },
  "language_info": {
   "codemirror_mode": {
    "name": "ipython",
    "version": 2
   },
   "file_extension": ".py",
   "mimetype": "text/x-python",
   "name": "python",
   "nbconvert_exporter": "python",
   "pygments_lexer": "ipython2",
   "version": "2.7.12"
  }
 },
 "nbformat": 4,
 "nbformat_minor": 0
}
